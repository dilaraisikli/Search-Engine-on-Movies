{
 "cells": [
  {
   "cell_type": "markdown",
   "metadata": {},
   "source": [
    "# Homework 3 group 3"
   ]
  },
  {
   "cell_type": "markdown",
   "metadata": {},
   "source": [
    "## Question 1"
   ]
  },
  {
   "cell_type": "markdown",
   "metadata": {},
   "source": [
    "### fetching data from wikipedia"
   ]
  },
  {
   "cell_type": "markdown",
   "metadata": {},
   "source": [
    "we saved that code in the file collector.py as required.\n",
    "there we fetched the data from wikipedia, using the urls in the data folder of the homework3 ripository."
   ]
  },
  {
   "cell_type": "markdown",
   "metadata": {},
   "source": [
    "### parsing documents"
   ]
  },
  {
   "cell_type": "markdown",
   "metadata": {},
   "source": [
    "for parse the document we used the beautyfulsoup library, we fetched all the paragraphs in intro and plot. we saved all the files in tsv format in a folder called MoviesTSV, with the name of article_0, article_1 and so on."
   ]
  },
  {
   "cell_type": "markdown",
   "metadata": {},
   "source": [
    "## Question 2"
   ]
  },
  {
   "cell_type": "markdown",
   "metadata": {},
   "source": [
    "### Utils"
   ]
  },
  {
   "cell_type": "markdown",
   "metadata": {},
   "source": [
    "in this file there are a cupple of functions imported by main and index"
   ]
  },
  {
   "cell_type": "markdown",
   "metadata": {},
   "source": [
    "### the index file"
   ]
  },
  {
   "cell_type": "markdown",
   "metadata": {},
   "source": [
    "in the index.py file there is the code for question 2.1.1, question 2.2.1 and finally question 3.\n",
    "the dictionaries are saved in files, so they don't have to be created from scratch for the search engines."
   ]
  },
  {
   "cell_type": "markdown",
   "metadata": {},
   "source": [
    "### main files and its search engines"
   ]
  },
  {
   "cell_type": "markdown",
   "metadata": {},
   "source": [
    "in the main.py file there are the answeres to question 2.1.2, 2.2.2, and question 3.\n",
    "in few words the search engines for those questions, each search engine gets its dictionaries from the files created by the index file.\n",
    "\n",
    "with the third search engine we use the euclidian distance for generate the ranking, and we add the title to the dictionaries for this question (this on the index.py file) for be more precise"
   ]
  },
  {
   "cell_type": "markdown",
   "metadata": {},
   "source": [
    "### Theoretical question "
   ]
  },
  {
   "cell_type": "markdown",
   "metadata": {},
   "source": [
    "about the question four we used an algorithm of dinamic programming to handle the problem, creating a matrix that stores in each cell the the lenght of the longest palindrome for the substring individuated by the index of the row and column of the matrix's cell, using the results of the previus cells the algorithm avoids the brute force, and finds the solution in polinomial time."
   ]
  }
 ],
 "metadata": {
  "kernelspec": {
   "display_name": "Python 3",
   "language": "python",
   "name": "python3"
  },
  "language_info": {
   "codemirror_mode": {
    "name": "ipython",
    "version": 3
   },
   "file_extension": ".py",
   "mimetype": "text/x-python",
   "name": "python",
   "nbconvert_exporter": "python",
   "pygments_lexer": "ipython3",
   "version": "3.7.3"
  }
 },
 "nbformat": 4,
 "nbformat_minor": 2
}
